{
  "cells": [
    {
      "cell_type": "markdown",
      "metadata": {
        "id": "aV2Fjkgv4MLv"
      },
      "source": [
        "# Modelos de clasificación\n",
        "\n",
        "**Autor/es:**\n",
        "+ Jonathan Olivares Garces\n",
        "+ Cristobal Betancurt Palma \n",
        "\n",
        "**Correos Electrónicos:**\n",
        "+ Jonathan.olivares2101@alumnos.ubiobio.cl\n",
        "+ Cristobal.betancurt2101@alumnos.ubiobio.cl\n",
        "\n",
        "**Fecha de Creación:** Octubre de 2024  \n",
        "**Versión:** 1.0\n",
        "\n",
        "---\n",
        "\n",
        "## Descripción\n",
        "\n",
        "Este notebook contiene el desarrollo de la evaluación 2 - parte 1 de la asignatura de Inteligencia Artificial de la carrera de Ingeniería civil en informática de la Universidad del Bío Bío - Sede Concepción"
      ]
    },
    {
      "cell_type": "markdown",
      "metadata": {
        "id": "4Kl2M4gI4XVr"
      },
      "source": [
        "# Carga de datos"
      ]
    },
    {
      "cell_type": "code",
      "execution_count": null,
      "metadata": {
        "id": "bSUFGLNt3zGK"
      },
      "outputs": [],
      "source": [
        "# Descargar el archivo\n",
        "!wget https://raw.githubusercontent.com/JaznaLaProfe/InteligenciaArtificial/main/data/empleados.csv.zip\n",
        "\n",
        "# Descomprimir el archivo\n",
        "!unzip -q empleados.csv.zip\n",
        "\n",
        "# Eliminar el archivo zip\n",
        "!rm empleados.csv.zip\n",
        "\n",
        "# Eliminar la carpeta __MACOSX si se creó\n",
        "!rm -rf __MACOSX"
      ]
    },
    {
      "cell_type": "markdown",
      "metadata": {
        "id": "JalJR7S84pTA"
      },
      "source": [
        "# Metodología CRISP-DM"
      ]
    },
    {
      "cell_type": "code",
      "execution_count": 1,
      "metadata": {},
      "outputs": [],
      "source": [
        "import pandas as pd\n",
        "import numpy as np\n",
        "import seaborn as sb\n",
        "import matplotlib.pyplot as plt\n",
        "import pickle \n",
        "\n",
        "#Cargar importaciones de librerias 1\n",
        "from sklearn.preprocessing import StandardScaler\n",
        "from sklearn.model_selection import train_test_split, cross_val_score, cross_validate\n",
        "from sklearn.feature_selection import SelectKBest\n",
        "from sklearn.linear_model import LogisticRegression\n",
        "from sklearn.metrics import classification_report, confusion_matrix, accuracy_score, recall_score, precision_score\n",
        "from collections import Counter\n",
        "\n",
        "%matplotlib inline\n",
        "\n",
        "#Cargar importaciones de librerias 2\n",
        "\n",
        "from sklearn.linear_model import LinearRegression\n",
        "from sklearn.model_selection import train_test_split\n",
        "from sklearn.tree import DecisionTreeRegressor\n",
        "from sklearn.ensemble import RandomForestRegressor\n",
        "from sklearn.metrics import mean_absolute_error, mean_squared_log_error\n",
        "\n",
        "from sklearn.preprocessing import LabelEncoder, OneHotEncoder, OrdinalEncoder"
      ]
    },
    {
      "cell_type": "code",
      "execution_count": 11,
      "metadata": {},
      "outputs": [
        {
          "data": {
            "text/html": [
              "<div>\n",
              "<style scoped>\n",
              "    .dataframe tbody tr th:only-of-type {\n",
              "        vertical-align: middle;\n",
              "    }\n",
              "\n",
              "    .dataframe tbody tr th {\n",
              "        vertical-align: top;\n",
              "    }\n",
              "\n",
              "    .dataframe thead th {\n",
              "        text-align: right;\n",
              "    }\n",
              "</style>\n",
              "<table border=\"1\" class=\"dataframe\">\n",
              "  <thead>\n",
              "    <tr style=\"text-align: right;\">\n",
              "      <th></th>\n",
              "      <th>Employee ID</th>\n",
              "      <th>Age</th>\n",
              "      <th>Gender</th>\n",
              "      <th>Years at Company</th>\n",
              "      <th>Job Role</th>\n",
              "      <th>Monthly Income</th>\n",
              "      <th>Work-Life Balance</th>\n",
              "      <th>Job Satisfaction</th>\n",
              "      <th>Performance Rating</th>\n",
              "      <th>Number of Promotions</th>\n",
              "      <th>...</th>\n",
              "      <th>Number of Dependents</th>\n",
              "      <th>Job Level</th>\n",
              "      <th>Company Size</th>\n",
              "      <th>Company Tenure</th>\n",
              "      <th>Remote Work</th>\n",
              "      <th>Leadership Opportunities</th>\n",
              "      <th>Innovation Opportunities</th>\n",
              "      <th>Company Reputation</th>\n",
              "      <th>Employee Recognition</th>\n",
              "      <th>Attrition</th>\n",
              "    </tr>\n",
              "  </thead>\n",
              "  <tbody>\n",
              "    <tr>\n",
              "      <th>0</th>\n",
              "      <td>8410</td>\n",
              "      <td>31</td>\n",
              "      <td>Male</td>\n",
              "      <td>19</td>\n",
              "      <td>Education</td>\n",
              "      <td>5390</td>\n",
              "      <td>Excellent</td>\n",
              "      <td>Medium</td>\n",
              "      <td>Average</td>\n",
              "      <td>2</td>\n",
              "      <td>...</td>\n",
              "      <td>0</td>\n",
              "      <td>Mid</td>\n",
              "      <td>Medium</td>\n",
              "      <td>89</td>\n",
              "      <td>No</td>\n",
              "      <td>No</td>\n",
              "      <td>No</td>\n",
              "      <td>Excellent</td>\n",
              "      <td>Medium</td>\n",
              "      <td>Stayed</td>\n",
              "    </tr>\n",
              "    <tr>\n",
              "      <th>1</th>\n",
              "      <td>64756</td>\n",
              "      <td>59</td>\n",
              "      <td>Female</td>\n",
              "      <td>4</td>\n",
              "      <td>Media</td>\n",
              "      <td>5534</td>\n",
              "      <td>Poor</td>\n",
              "      <td>High</td>\n",
              "      <td>Low</td>\n",
              "      <td>3</td>\n",
              "      <td>...</td>\n",
              "      <td>3</td>\n",
              "      <td>Mid</td>\n",
              "      <td>Medium</td>\n",
              "      <td>21</td>\n",
              "      <td>No</td>\n",
              "      <td>No</td>\n",
              "      <td>No</td>\n",
              "      <td>Fair</td>\n",
              "      <td>Low</td>\n",
              "      <td>Stayed</td>\n",
              "    </tr>\n",
              "    <tr>\n",
              "      <th>2</th>\n",
              "      <td>30257</td>\n",
              "      <td>24</td>\n",
              "      <td>Female</td>\n",
              "      <td>10</td>\n",
              "      <td>Healthcare</td>\n",
              "      <td>8159</td>\n",
              "      <td>Good</td>\n",
              "      <td>High</td>\n",
              "      <td>Low</td>\n",
              "      <td>0</td>\n",
              "      <td>...</td>\n",
              "      <td>3</td>\n",
              "      <td>Mid</td>\n",
              "      <td>Medium</td>\n",
              "      <td>74</td>\n",
              "      <td>No</td>\n",
              "      <td>No</td>\n",
              "      <td>No</td>\n",
              "      <td>Poor</td>\n",
              "      <td>Low</td>\n",
              "      <td>Stayed</td>\n",
              "    </tr>\n",
              "    <tr>\n",
              "      <th>3</th>\n",
              "      <td>65791</td>\n",
              "      <td>36</td>\n",
              "      <td>Female</td>\n",
              "      <td>7</td>\n",
              "      <td>Education</td>\n",
              "      <td>3989</td>\n",
              "      <td>Good</td>\n",
              "      <td>High</td>\n",
              "      <td>High</td>\n",
              "      <td>1</td>\n",
              "      <td>...</td>\n",
              "      <td>2</td>\n",
              "      <td>Mid</td>\n",
              "      <td>Small</td>\n",
              "      <td>50</td>\n",
              "      <td>Yes</td>\n",
              "      <td>No</td>\n",
              "      <td>No</td>\n",
              "      <td>Good</td>\n",
              "      <td>Medium</td>\n",
              "      <td>Stayed</td>\n",
              "    </tr>\n",
              "    <tr>\n",
              "      <th>4</th>\n",
              "      <td>65026</td>\n",
              "      <td>56</td>\n",
              "      <td>Male</td>\n",
              "      <td>41</td>\n",
              "      <td>Education</td>\n",
              "      <td>4821</td>\n",
              "      <td>Fair</td>\n",
              "      <td>Very High</td>\n",
              "      <td>Average</td>\n",
              "      <td>0</td>\n",
              "      <td>...</td>\n",
              "      <td>0</td>\n",
              "      <td>Senior</td>\n",
              "      <td>Medium</td>\n",
              "      <td>68</td>\n",
              "      <td>No</td>\n",
              "      <td>No</td>\n",
              "      <td>No</td>\n",
              "      <td>Fair</td>\n",
              "      <td>Medium</td>\n",
              "      <td>Stayed</td>\n",
              "    </tr>\n",
              "  </tbody>\n",
              "</table>\n",
              "<p>5 rows × 24 columns</p>\n",
              "</div>"
            ],
            "text/plain": [
              "   Employee ID  Age  Gender  Years at Company    Job Role  Monthly Income  \\\n",
              "0         8410   31    Male                19   Education            5390   \n",
              "1        64756   59  Female                 4       Media            5534   \n",
              "2        30257   24  Female                10  Healthcare            8159   \n",
              "3        65791   36  Female                 7   Education            3989   \n",
              "4        65026   56    Male                41   Education            4821   \n",
              "\n",
              "  Work-Life Balance Job Satisfaction Performance Rating  Number of Promotions  \\\n",
              "0         Excellent           Medium            Average                     2   \n",
              "1              Poor             High                Low                     3   \n",
              "2              Good             High                Low                     0   \n",
              "3              Good             High               High                     1   \n",
              "4              Fair        Very High            Average                     0   \n",
              "\n",
              "   ... Number of Dependents  Job Level Company Size Company Tenure  \\\n",
              "0  ...                    0        Mid       Medium             89   \n",
              "1  ...                    3        Mid       Medium             21   \n",
              "2  ...                    3        Mid       Medium             74   \n",
              "3  ...                    2        Mid        Small             50   \n",
              "4  ...                    0     Senior       Medium             68   \n",
              "\n",
              "   Remote Work Leadership Opportunities Innovation Opportunities  \\\n",
              "0           No                       No                       No   \n",
              "1           No                       No                       No   \n",
              "2           No                       No                       No   \n",
              "3          Yes                       No                       No   \n",
              "4           No                       No                       No   \n",
              "\n",
              "   Company Reputation Employee Recognition Attrition  \n",
              "0           Excellent               Medium    Stayed  \n",
              "1                Fair                  Low    Stayed  \n",
              "2                Poor                  Low    Stayed  \n",
              "3                Good               Medium    Stayed  \n",
              "4                Fair               Medium    Stayed  \n",
              "\n",
              "[5 rows x 24 columns]"
            ]
          },
          "execution_count": 11,
          "metadata": {},
          "output_type": "execute_result"
        }
      ],
      "source": [
        "data = pd.read_csv('Empleados.csv', sep = ',')\n",
        "data.head()"
      ]
    },
    {
      "cell_type": "markdown",
      "metadata": {
        "id": "RtShVj-Q4qrf"
      },
      "source": [
        "## Fase 2 - Comprensión de los datos"
      ]
    },
    {
      "cell_type": "code",
      "execution_count": null,
      "metadata": {
        "id": "C_rHA2bi7eFL"
      },
      "outputs": [],
      "source": [
        "# Escriba su código acá"
      ]
    },
    {
      "cell_type": "markdown",
      "metadata": {
        "id": "soUS3WT-40WS"
      },
      "source": [
        "## Fase 3 - Preparación de datos"
      ]
    },
    {
      "cell_type": "code",
      "execution_count": null,
      "metadata": {
        "id": "DdKZ8oKa7dYK"
      },
      "outputs": [],
      "source": [
        "# Escriba su código acá"
      ]
    },
    {
      "cell_type": "markdown",
      "metadata": {
        "id": "S08wOYg-47mE"
      },
      "source": [
        "## Fase 4 - Modelamiento"
      ]
    },
    {
      "cell_type": "markdown",
      "metadata": {
        "id": "lKfAtBsD5HMQ"
      },
      "source": [
        "### Modelos Línea base\n",
        "\n",
        "+ ***Acá todos los modelos deben tener un accuracy y roc_auc mayor o igual a 0.7***\n",
        "+ Se deben incluir las métricas: acuracy, precision, recall, f1-score, matriz de confusión y roc_auc"
      ]
    },
    {
      "cell_type": "code",
      "execution_count": null,
      "metadata": {
        "id": "nTIudLd77cTN"
      },
      "outputs": [],
      "source": [
        "# Escriba su código acá"
      ]
    },
    {
      "cell_type": "markdown",
      "metadata": {
        "id": "Fu9Ej3o05NRJ"
      },
      "source": [
        "### Modelos línea base mejorada\n",
        "\n",
        "+ ***Acá todos los modelos deben tener un roc_auc mayor o igual a 0.78***\n",
        "+ Se deben incluir las métricas: acuracy, precision, recall, f1-score, matriz de confusión y roc_auc"
      ]
    },
    {
      "cell_type": "code",
      "execution_count": null,
      "metadata": {
        "id": "-X9u-Fum7ZEs"
      },
      "outputs": [],
      "source": [
        "# Escriba su código acá"
      ]
    },
    {
      "cell_type": "markdown",
      "metadata": {
        "id": "3jbxWWm94-SK"
      },
      "source": [
        "## Fase 5 - Evaluación\n",
        "\n",
        "Acá debe seleccionar el mejor modelo de la línea base mejorada usando una métrica que debe justificar"
      ]
    },
    {
      "cell_type": "markdown",
      "metadata": {
        "id": "qQh1SjhN6aFH"
      },
      "source": [
        "### Selección y justificación de la métrica\n",
        "\n",
        "Deje acá sus comentarios"
      ]
    },
    {
      "cell_type": "code",
      "execution_count": null,
      "metadata": {
        "id": "MBkZCNuf7U4P"
      },
      "outputs": [],
      "source": [
        "# Escriba su código acá"
      ]
    },
    {
      "cell_type": "markdown",
      "metadata": {
        "id": "jXzqruIS6lMm"
      },
      "source": [
        "#### Obtención del mejor modelo usando la métrica seleccionada (recuerde que el roc_auc debe ser mayor a 0.78"
      ]
    },
    {
      "cell_type": "code",
      "execution_count": null,
      "metadata": {
        "id": "19xHkSRg7ATh"
      },
      "outputs": [],
      "source": [
        "# Escriba su código acá"
      ]
    },
    {
      "cell_type": "markdown",
      "metadata": {
        "id": "FIJOfL1P7DLH"
      },
      "source": [
        "#### Interpretación de todas las métricas del mejor modelo seleccionado"
      ]
    },
    {
      "cell_type": "markdown",
      "metadata": {
        "id": "ROVnR-sk5Ckc"
      },
      "source": [
        "## Fase 6 - Deployment"
      ]
    },
    {
      "cell_type": "code",
      "execution_count": null,
      "metadata": {
        "id": "E-_BCzHQ7h7n"
      },
      "outputs": [],
      "source": [
        "# Escriba su código acá"
      ]
    },
    {
      "cell_type": "markdown",
      "metadata": {
        "id": "1X6K4CDz6A7y"
      },
      "source": [
        "# Pregunta\n",
        "\n",
        "¿Recomendarían el modelo seleccionado?\n",
        "\n",
        "Si la respuesta a la pregunta anterior es afirmativa: ¿Cuál es la razón por la cual lo recomendarían?\n",
        "\n",
        "Si la respuesta a la pregunta es negativa: ¿Cuál es la alternativa propuesta?"
      ]
    }
  ],
  "metadata": {
    "colab": {
      "provenance": []
    },
    "kernelspec": {
      "display_name": "Python 3",
      "name": "python3"
    },
    "language_info": {
      "codemirror_mode": {
        "name": "ipython",
        "version": 3
      },
      "file_extension": ".py",
      "mimetype": "text/x-python",
      "name": "python",
      "nbconvert_exporter": "python",
      "pygments_lexer": "ipython3",
      "version": "3.12.6"
    }
  },
  "nbformat": 4,
  "nbformat_minor": 0
}
